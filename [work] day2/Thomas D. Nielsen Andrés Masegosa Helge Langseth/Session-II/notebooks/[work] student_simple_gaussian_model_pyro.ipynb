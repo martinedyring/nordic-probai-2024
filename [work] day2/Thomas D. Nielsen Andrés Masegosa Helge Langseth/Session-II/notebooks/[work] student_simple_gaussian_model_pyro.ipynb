{
 "cells": [
  {
   "cell_type": "markdown",
   "metadata": {
    "colab_type": "text",
    "id": "view-in-github"
   },
   "source": [
    "<a href=\"https://colab.research.google.com/github/PGM-Lab/2023-probai-private/blob/main/Day2-AfterLunch/notebooks/student_simple_gaussian_model_pyro.ipynb\" target=\"_parent\"><img src=\"https://colab.research.google.com/assets/colab-badge.svg\" alt=\"Open In Colab\"/></a>"
   ]
  },
  {
   "cell_type": "markdown",
   "metadata": {
    "id": "wJ5e7RVcoKT-"
   },
   "source": [
    "<img src=\"https://github.com/PGM-Lab/2022-ProbAI/raw/main/Day2-AfterLunch/notebooks/Figures/simple_pyro_exercise.png\" width=\"800\">\n"
   ]
  },
  {
   "cell_type": "code",
   "execution_count": 1,
   "metadata": {
    "id": "vNaU7LMtoKUB"
   },
   "outputs": [],
   "source": [
    "import numpy as np\n",
    "import torch\n",
    "from torch.distributions import constraints\n",
    "import matplotlib.pyplot as plt\n",
    "\n",
    "import pyro\n",
    "from pyro.distributions import Normal, Gamma, MultivariateNormal\n",
    "from pyro.infer import SVI, Trace_ELBO\n",
    "from pyro.optim import Adam\n",
    "import pyro.optim as optim"
   ]
  },
  {
   "cell_type": "markdown",
   "metadata": {
    "id": "bIp4KvsEoKUB"
   },
   "source": [
    "## Generate some data"
   ]
  },
  {
   "cell_type": "code",
   "execution_count": 2,
   "metadata": {
    "id": "IvSrjN_4oKUC"
   },
   "outputs": [],
   "source": [
    "# Sample data\n",
    "np.random.seed(123)\n",
    "N = 100\n",
    "correct_mean = 5\n",
    "correct_precision = 1\n",
    "data = torch.tensor(np.random.normal(loc=correct_mean, scale=np.sqrt(1./correct_precision), size=N), dtype=torch.float)"
   ]
  },
  {
   "cell_type": "markdown",
   "metadata": {
    "id": "9TAlxpNToKUC"
   },
   "source": [
    "## Our model specification"
   ]
  },
  {
   "cell_type": "code",
   "execution_count": 3,
   "metadata": {
    "id": "jE4ItwMhoKUD"
   },
   "outputs": [],
   "source": [
    "def model(data):\n",
    "    gamma = pyro.sample(\"gamma\", Gamma(torch.tensor(1.), torch.tensor(1.)))\n",
    "    mu = pyro.sample(\"mu\", Normal(torch.zeros(1), torch.tensor(10000.0)))\n",
    "    with pyro.plate(\"data\", len(data)):\n",
    "        pyro.sample(\"x\", Normal(loc=mu, scale=torch.sqrt(1. / gamma)), obs=data)"
   ]
  },
  {
   "cell_type": "markdown",
   "metadata": {
    "id": "U5AFBtuEoKUD"
   },
   "source": [
    "## Our guide specification"
   ]
  },
  {
   "cell_type": "code",
   "execution_count": 5,
   "metadata": {
    "id": "venykT3VoKUD"
   },
   "outputs": [],
   "source": [
    "# Define the right guide for the above model, including the variational parameters. \n",
    "def guide(data=None):\n",
    "    # Variational parameters for gamma\n",
    "    gamma_a = pyro.param(\"gamma_a\", torch.tensor(1.), constraint=constraints.positive)\n",
    "    gamma_b = pyro.param(\"gamma_b\", torch.tensor(1.), constraint=constraints.positive)\n",
    "    \n",
    "    # Variational parameters for mu\n",
    "    mu_loc = pyro.param(\"mu_loc\", torch.tensor(0.))\n",
    "    mu_scale = pyro.param(\"mu_scale\", torch.tensor(1.), constraint=constraints.positive)\n",
    "    \n",
    "    # Register the variational parameters with Pyro\n",
    "    gamma = pyro.sample(\"gamma\", Gamma(gamma_a, gamma_b))\n",
    "    mu = pyro.sample(\"mu\", Normal(mu_loc, mu_scale))"
   ]
  },
  {
   "cell_type": "markdown",
   "metadata": {
    "id": "0G7u3JOLoKUE"
   },
   "source": [
    "## Do learning"
   ]
  },
  {
   "cell_type": "code",
   "execution_count": 6,
   "metadata": {
    "id": "Sds04uVeoKUE",
    "outputId": "7779aa97-e02d-48df-d69d-341f96fc28c2"
   },
   "outputs": [
    {
     "name": "stdout",
     "output_type": "stream",
     "text": [
      "[epoch 000] average training loss: 641.7271\n",
      "[epoch 500] average training loss: 305.4049\n",
      "[epoch 1000] average training loss: 359.5485\n",
      "[epoch 1500] average training loss: 185.8212\n",
      "[epoch 2000] average training loss: 182.1426\n",
      "[epoch 2500] average training loss: 168.0064\n"
     ]
    }
   ],
   "source": [
    "# setup the optimizer\n",
    "adam_args = {\"lr\": 0.01}\n",
    "optimizer = Adam(adam_args)\n",
    "\n",
    "pyro.clear_param_store()\n",
    "svi = SVI(model, guide, optimizer, loss=Trace_ELBO())\n",
    "train_elbo = []\n",
    "# training loop\n",
    "for epoch in range(3000):\n",
    "    loss = svi.step(data)\n",
    "    train_elbo.append(-loss)\n",
    "    if (epoch % 500) == 0:\n",
    "        print(\"[epoch %03d] average training loss: %.4f\" % (epoch, loss))"
   ]
  },
  {
   "cell_type": "code",
   "execution_count": 7,
   "metadata": {
    "id": "Kz5F9TzKoKUF",
    "outputId": "64b37913-0438-445e-81e6-c990d148b320"
   },
   "outputs": [
    {
     "name": "stdout",
     "output_type": "stream",
     "text": [
      "gamma_a tensor(3.8956, grad_fn=<AddBackward0>)\n",
      "gamma_b tensor(4.5496, grad_fn=<AddBackward0>)\n",
      "mu_loc tensor(5.0188, requires_grad=True)\n",
      "mu_scale tensor(0.1759, grad_fn=<AddBackward0>)\n"
     ]
    }
   ],
   "source": [
    "for name, value in pyro.get_param_store().items():\n",
    "    print(name, pyro.param(name))"
   ]
  },
  {
   "cell_type": "code",
   "execution_count": 8,
   "metadata": {
    "id": "-W3H0l_toKUG",
    "outputId": "1489c2ea-6b37-4f09-8a8c-523019601964"
   },
   "outputs": [
    {
     "data": {
      "image/png": "[encoded data removed]",
      "text/plain": [
       "<Figure size 640x480 with 1 Axes>"
      ]
     },
     "metadata": {},
     "output_type": "display_data"
    }
   ],
   "source": [
    "plt.plot(range(len(train_elbo)), train_elbo)\n",
    "plt.xlabel(\"Number of iterations\")\n",
    "plt.ylabel(\"ELBO\")\n",
    "plt.show()"
   ]
  },
  {
   "cell_type": "code",
   "execution_count": null,
   "metadata": {},
   "outputs": [],
   "source": []
  }
 ],
 "metadata": {
  "colab": {
   "include_colab_link": true,
   "name": "student_simple_gaussian_model_pyro.ipynb",
   "provenance": []
  },
  "kernelspec": {
   "display_name": "Python 3 (ipykernel)",
   "language": "python",
   "name": "python3"
  },
  "language_info": {
   "codemirror_mode": {
    "name": "ipython",
    "version": 3
   },
   "file_extension": ".py",
   "mimetype": "text/x-python",
   "name": "python",
   "nbconvert_exporter": "python",
   "pygments_lexer": "ipython3",
   "version": "3.9.6"
  }
 },
 "nbformat": 4,
 "nbformat_minor": 4
}
